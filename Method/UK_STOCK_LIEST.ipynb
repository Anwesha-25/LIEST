{
 "cells": [
  {
   "cell_type": "markdown",
   "id": "8e5122cf",
   "metadata": {},
   "source": [
    "# Importing Libraries"
   ]
  },
  {
   "cell_type": "code",
   "execution_count": 1,
   "id": "873633df",
   "metadata": {},
   "outputs": [],
   "source": [
    "import warnings\n",
    "warnings.simplefilter(\"ignore\", UserWarning)\n",
    "warnings.simplefilter(\"ignore\", RuntimeWarning)\n",
    "\n",
    "dir = 'D:/Research/LIEST/'\n",
    "import sys\n",
    "sys.path.append(dir)\n",
    "\n",
    "import os\n",
    "import pickle\n",
    "import numpy as np\n",
    "import pandas as pd\n",
    "from utils import LIEST"
   ]
  },
  {
   "cell_type": "markdown",
   "id": "dd75bffa",
   "metadata": {},
   "source": [
    "# Datanames and Directories"
   ]
  },
  {
   "cell_type": "code",
   "execution_count": 2,
   "id": "80084924",
   "metadata": {},
   "outputs": [],
   "source": [
    "dataname = 'UK_STOCK'\n",
    "dirData = dir+'Data/'\n",
    "dirRes = dir+'Results/'"
   ]
  },
  {
   "cell_type": "code",
   "execution_count": 3,
   "id": "f78a8bef",
   "metadata": {},
   "outputs": [],
   "source": [
    "# Loading labels\n",
    "with open(dirData+\"CSLabels/\"+dataname+\"Sectors.pkl\", \"rb\") as fp:   \n",
    "    y = pickle.load(fp)\n",
    "    \n",
    "# Loading path\n",
    "with open(dirData+\"CSLabels/\"+dataname+\"Companies.pkl\", \"rb\") as fp:   \n",
    "    path = pickle.load(fp)"
   ]
  },
  {
   "cell_type": "markdown",
   "id": "e745a5a9",
   "metadata": {},
   "source": [
    "# Loading Data (In_covid time period)"
   ]
  },
  {
   "cell_type": "code",
   "execution_count": 4,
   "id": "73c4b399",
   "metadata": {},
   "outputs": [],
   "source": [
    "# Loading data\n",
    "df = pd.read_csv(dirData+'PreprocessedData/'+dataname+'_in_covid.csv',header=0,index_col=0)"
   ]
  },
  {
   "cell_type": "markdown",
   "id": "9475974a",
   "metadata": {},
   "source": [
    "# Run LIEST"
   ]
  },
  {
   "cell_type": "code",
   "execution_count": 5,
   "id": "b80de048",
   "metadata": {},
   "outputs": [],
   "source": [
    "Results = LIEST.LIEST(df, y, path)"
   ]
  },
  {
   "cell_type": "markdown",
   "id": "c3aa66f4",
   "metadata": {},
   "source": [
    "# Save the results"
   ]
  },
  {
   "cell_type": "code",
   "execution_count": 6,
   "id": "4ce8e02f",
   "metadata": {},
   "outputs": [],
   "source": [
    "pos_res = {}\n",
    "neg_res = {}\n",
    "for i in y.keys():\n",
    "    pos_res[i] = [i for i in Results[0][i]['Node']]\n",
    "    neg_res[i] = [i for i in Results[1][i]['Node']]"
   ]
  },
  {
   "cell_type": "code",
   "execution_count": 7,
   "id": "a97e33bb",
   "metadata": {},
   "outputs": [],
   "source": [
    "pd.DataFrame(pos_res).to_csv(dirRes+dataname+'_in_covid_pos.csv')\n",
    "pd.DataFrame(neg_res).to_csv(dirRes+dataname+'_in_covid_neg.csv')"
   ]
  },
  {
   "cell_type": "markdown",
   "id": "163b1f81",
   "metadata": {},
   "source": [
    "# Loading Data (Post_covid time period)"
   ]
  },
  {
   "cell_type": "code",
   "execution_count": 8,
   "id": "c8e5a0a8",
   "metadata": {},
   "outputs": [],
   "source": [
    "# Loading data\n",
    "df = pd.read_csv(dirData+'PreprocessedData/'+dataname+'_post_covid.csv',header=0,index_col=0)"
   ]
  },
  {
   "cell_type": "markdown",
   "id": "bebde5ee",
   "metadata": {},
   "source": [
    "# Run LIEST"
   ]
  },
  {
   "cell_type": "code",
   "execution_count": 9,
   "id": "517aaec7",
   "metadata": {},
   "outputs": [],
   "source": [
    "Results = LIEST.LIEST(df, y, path)"
   ]
  },
  {
   "cell_type": "markdown",
   "id": "8c0cd638",
   "metadata": {},
   "source": [
    "# Save the results"
   ]
  },
  {
   "cell_type": "code",
   "execution_count": 10,
   "id": "5af5de38",
   "metadata": {},
   "outputs": [],
   "source": [
    "pos_res = {}\n",
    "neg_res = {}\n",
    "for i in y.keys():\n",
    "    pos_res[i] = [i for i in Results[0][i]['Node']]\n",
    "    neg_res[i] = [i for i in Results[1][i]['Node']]"
   ]
  },
  {
   "cell_type": "code",
   "execution_count": 11,
   "id": "763efe80",
   "metadata": {},
   "outputs": [],
   "source": [
    "pd.DataFrame(pos_res).to_csv(dirRes+dataname+'_post_covid_pos.csv')\n",
    "pd.DataFrame(neg_res).to_csv(dirRes+dataname+'_post_covid_neg.csv')"
   ]
  }
 ],
 "metadata": {
  "kernelspec": {
   "display_name": "Python 3 (ipykernel)",
   "language": "python",
   "name": "python3"
  },
  "language_info": {
   "codemirror_mode": {
    "name": "ipython",
    "version": 3
   },
   "file_extension": ".py",
   "mimetype": "text/x-python",
   "name": "python",
   "nbconvert_exporter": "python",
   "pygments_lexer": "ipython3",
   "version": "3.10.2"
  }
 },
 "nbformat": 4,
 "nbformat_minor": 5
}
