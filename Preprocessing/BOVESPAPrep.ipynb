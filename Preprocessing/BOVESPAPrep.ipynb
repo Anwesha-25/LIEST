{
 "cells": [
  {
   "cell_type": "markdown",
   "id": "d915afeb",
   "metadata": {},
   "source": [
    "# Importing Libraries"
   ]
  },
  {
   "cell_type": "code",
   "execution_count": 1,
   "id": "9e0b5dd3",
   "metadata": {},
   "outputs": [],
   "source": [
    "import warnings\n",
    "warnings.simplefilter(\"ignore\", UserWarning)\n",
    "\n",
    "import os\n",
    "import glob\n",
    "import pickle\n",
    "import numpy as np\n",
    "import pandas as pd"
   ]
  },
  {
   "cell_type": "markdown",
   "id": "131cdce0",
   "metadata": {},
   "source": [
    "# Loading Data"
   ]
  },
  {
   "cell_type": "code",
   "execution_count": 2,
   "id": "a449f239",
   "metadata": {},
   "outputs": [],
   "source": [
    "# Get a list of all the csv files\n",
    "dataname = 'BOVESPA'\n",
    "dir = 'D:/Research/LIEST/Data/'\n",
    "csv_files = glob.glob(dir+'RawData/BOVESPA/*.csv')\n",
    "\n",
    "# List comprehension that loads of all the files\n",
    "dfs = [pd.read_csv(i) for i in csv_files]"
   ]
  },
  {
   "cell_type": "code",
   "execution_count": 3,
   "id": "48cb6bc7",
   "metadata": {},
   "outputs": [],
   "source": [
    "path = []\n",
    "for i in range(len(csv_files)):\n",
    "    base = os.path.basename(os.path.normpath(csv_files[i]))\n",
    "    path.append(os.path.splitext(base)[0])"
   ]
  },
  {
   "cell_type": "markdown",
   "id": "9a7cf84c",
   "metadata": {},
   "source": [
    "# Company-Sector tagging"
   ]
  },
  {
   "cell_type": "code",
   "execution_count": 4,
   "id": "7a9dd6c8",
   "metadata": {},
   "outputs": [],
   "source": [
    "CC = ['ALPA4.SA', 'AMER3.SA', 'CVCB3.SA','CYRE3.SA', 'PCAR3.SA','LREN3.SA','MGLU3.SA', 'MRVE3.SA','VBBR3.SA','VIIA3.SA']\n",
    "\n",
    "CD = [ 'ABEV3.SA', 'BRFS3.SA','CRFB3.SA','COGN3.SA','JBSS3.SA','MRFG3.SA','BEEF3.SA','YDUQ3.SA']\n",
    "\n",
    "Industrial = ['AZUL4.SA', 'CCRO3.SA','ECOR3.SA','EMBR3.SA','GOLL4.SA','RENT3.SA','RAIL3.SA','WEGE3.SA' ]\n",
    "\n",
    "Financial = ['B3SA3.SA', 'BBAS3.SA', 'BBSE3.SA', 'BBDC4.SA', 'BBDC3.SA' , 'BPAN4.SA', 'BRAP4.SA', 'BPAC11.SA','HAPV3.SA','IRBR3.SA',\n",
    "             'ITUB4.SA','ITSA4.SA','SANB11.SA']\n",
    "\n",
    "Real_estate = ['BRML3.SA','EZTC3.SA','JHSF3.SA','MULT3.SA']\n",
    "\n",
    "BM = [ 'BRKM5.SA', 'BRKM3.SA', 'BRKM6.SA','CSNA3.SA','DXCO3.SA', 'GGBR4.SA','KLBN11.SA','KLBN3.SA','SUZB3.SA','USIM5.SA',\n",
    "      'USIM3.SA', 'USIM6.SA','VALE3.SA']\n",
    "\n",
    "Utilities = ['CMIG4.SA','CPLE6.SA','CPLE3.SA', 'CPFE3.SA','ENBR3.SA','ELET6.SA','ENGI11.SA','ENEV3.SA','EGIE3.SA','EQTL3.SA','SBSP3.SA',\n",
    "             'TAEE11.SA', 'TAEE4.SA']\n",
    "\n",
    "Technology = ['CIEL3.SA','TOTS3.SA', 'POSI3.SA']\n",
    "\n",
    "Energy = ['CSAN3.SA','PETR4.SA','PRIO3.SA','UGPA3.SA' ]\n",
    "\n",
    "HC = ['FLRY3.SA', 'HYPE3.SA','QUAL3.SA','RADL3.SA',  'PFRM3.SA', 'AALR3.SA', 'DASA3.SA']\n",
    "\n",
    "Communication = ['VIVT3.SA','TIMS3.SA']\n",
    "\n",
    "sector = [CC, CD, Industrial, Financial, Real_estate, BM, Utilities, Technology, Energy, HC, Communication]\n",
    "\n",
    "sectorname = ['CC', 'CD', 'Industrial', 'Financial', 'Real_estate', 'BM',\n",
    "              'Utilities', 'Technology', 'Energy', 'HC', 'Communication']\n",
    "\n",
    "sectordict = {sectorname[i]: sector[i] for i in range(len(sector))}"
   ]
  },
  {
   "cell_type": "markdown",
   "id": "01cd0efc",
   "metadata": {},
   "source": [
    "# Preprocessing"
   ]
  },
  {
   "cell_type": "code",
   "execution_count": 5,
   "id": "7cc52157",
   "metadata": {},
   "outputs": [],
   "source": [
    "#Changing indices of each dataframe\n",
    "for i in range(len(csv_files)):\n",
    "    dfs[i].set_index(\"Date\", inplace = True)\n",
    "    dfs[i].index= pd.to_datetime(dfs[i].index)\n",
    "    dfs[i].index = dfs[i].index.strftime('%Y-%m-%d')\n",
    "\n",
    "#Considering Closing price for each stock\n",
    "dfs_copy = [pd.DataFrame(dfs[i].loc[:,'Close']) for i in range(len(csv_files))]\n",
    "\n",
    "# Merging all parts (Stock name as column name and date as index)\n",
    "dfs_main = pd.concat(dfs_copy , axis = 1) \n",
    "dfs_main = dfs_main.set_axis(path , axis=1)\n",
    "dfs_main = dfs_main.sort_index()\n",
    "\n",
    "# dfs main (filling nan values by previous values)\n",
    "dfs_main.fillna(method='ffill', inplace=True)"
   ]
  },
  {
   "cell_type": "markdown",
   "id": "961a784f",
   "metadata": {},
   "source": [
    "# Saving the preprocessed data and company sector labels "
   ]
  },
  {
   "cell_type": "code",
   "execution_count": 6,
   "id": "2ebc21bb",
   "metadata": {},
   "outputs": [],
   "source": [
    "# In covid data\n",
    "dfs_main.loc['2019-12-01':'2020-08-31',:].to_csv(dir+'PreprocessedData/'+dataname+'_in_covid.csv')\n",
    "# post covid data\n",
    "dfs_main.loc['2020-09-01':'2021-06-31',:].to_csv(dir+'PreprocessedData/'+dataname+'_post_covid.csv')"
   ]
  },
  {
   "cell_type": "code",
   "execution_count": 7,
   "id": "1c1031e6",
   "metadata": {},
   "outputs": [],
   "source": [
    "# Saving csLabels\n",
    "with open(dir+\"CSLabels/\"+dataname+\"Sectors.pkl\", \"wb\") as fp:\n",
    "    pickle.dump(sectordict, fp)"
   ]
  },
  {
   "cell_type": "code",
   "execution_count": 8,
   "id": "c221c3fa",
   "metadata": {},
   "outputs": [],
   "source": [
    "# Saving Company names\n",
    "with open(dir+\"CSLabels/\"+dataname+\"Companies.pkl\", \"wb\") as fp:\n",
    "    pickle.dump(path, fp)"
   ]
  }
 ],
 "metadata": {
  "kernelspec": {
   "display_name": "Python 3 (ipykernel)",
   "language": "python",
   "name": "python3"
  },
  "language_info": {
   "codemirror_mode": {
    "name": "ipython",
    "version": 3
   },
   "file_extension": ".py",
   "mimetype": "text/x-python",
   "name": "python",
   "nbconvert_exporter": "python",
   "pygments_lexer": "ipython3",
   "version": "3.10.2"
  }
 },
 "nbformat": 4,
 "nbformat_minor": 5
}
