{
 "cells": [
  {
   "cell_type": "markdown",
   "id": "d915afeb",
   "metadata": {},
   "source": [
    "# Importing Libraries"
   ]
  },
  {
   "cell_type": "code",
   "execution_count": 1,
   "id": "9e0b5dd3",
   "metadata": {},
   "outputs": [],
   "source": [
    "import warnings\n",
    "warnings.simplefilter(\"ignore\", UserWarning)\n",
    "\n",
    "import os\n",
    "import glob\n",
    "import pickle\n",
    "import numpy as np\n",
    "import pandas as pd"
   ]
  },
  {
   "cell_type": "markdown",
   "id": "131cdce0",
   "metadata": {},
   "source": [
    "# Loading Data"
   ]
  },
  {
   "cell_type": "code",
   "execution_count": 2,
   "id": "a449f239",
   "metadata": {},
   "outputs": [],
   "source": [
    "# Get a list of all the csv files\n",
    "dataname = 'NASDAQ'\n",
    "dir = 'D:/Research/LIEST/Data/'\n",
    "csv_files = glob.glob(dir+'RawData/NASDAQ/*.csv')\n",
    "\n",
    "# List comprehension that loads of all the files\n",
    "dfs = [pd.read_csv(i) for i in csv_files]"
   ]
  },
  {
   "cell_type": "code",
   "execution_count": 3,
   "id": "48cb6bc7",
   "metadata": {},
   "outputs": [],
   "source": [
    "path = []\n",
    "for i in range(len(csv_files)):\n",
    "    base = os.path.basename(os.path.normpath(csv_files[i]))\n",
    "    path.append(os.path.splitext(base)[0])"
   ]
  },
  {
   "cell_type": "markdown",
   "id": "9a7cf84c",
   "metadata": {},
   "source": [
    "# Company-Sector tagging"
   ]
  },
  {
   "cell_type": "code",
   "execution_count": 4,
   "id": "7a9dd6c8",
   "metadata": {},
   "outputs": [],
   "source": [
    "Technology = ['AMAT', 'ADSK', 'ADBE', 'AAPL', 'ENPH', 'CTSH','DDOG', 'CRWD', 'CDNS','AVGO','ASML', 'AUB','ANSS','AMD','MCHP',\n",
    "              'INTU','INTC','FTNT','FISV','MRVL','MSFT', 'ZM','TXN', 'CSCO' ]\n",
    "\n",
    "Healthcare = ['ALGN', 'DXCM','BIIB', 'AZN', 'AMGN','KALA','ISRG','KPTI','IDXX','ILMN','GILD','GERN','FREQ','MRNA','NCNA','WBA',\n",
    "              'VRTX','SGEN','REGN']\n",
    "\n",
    "Consumer_Cyclical = ['EBAY', 'CPRT','AMZN', 'BKNG','BBBY','MELI','MAR','LULU','JD','PDD','ORLY','SBUX','ROST']\n",
    "\n",
    "Consumer_Defensive =['DLTR', 'COST','MNST', 'MDLZ', 'KDP','KHC','PEP','STKL']\n",
    "\n",
    "Utilities = ['AEP','EXC', 'XEL']\n",
    "\n",
    "Industrial = ['ADP', 'CSX', 'CTAS', 'AXON','HON','FAST','PCAR','PAYX','ODFL','NKLA','VRSK']\n",
    "\n",
    "Energy = ['BKR','FANG','GLNG']\n",
    "\n",
    "Real_Estate = ['AGNC', 'CSGP', 'LAMR', 'GOOD','HST','GLPI','EQIX','SBRA','ROIC']\n",
    "\n",
    "Financial = ['ACGL', 'ABCB','BANR','CATY','CACC','BPRN','BPOP','BOKF','BGCP','BHF','TIGR','PFG','PYPL']\n",
    "\n",
    "Communication_services = ['EA', 'CMCSA','CHTR','ATVI','META', 'LSXMK', 'LSXMA','GOOGL','NFLX','PARA','WBD','TMUS','SIRI']\n",
    "\n",
    "Automobile = ['CVGI','MPAA','LKQ','GT','GNTX','WPRT','TSLA','RIDE']\n",
    "\n",
    "Basic_Material = [ 'MERC','UFPI']\n",
    "\n",
    "sector = [Technology, Healthcare, Consumer_Cyclical, Consumer_Defensive , Utilities, Industrial,\n",
    "          Energy, Real_Estate , Financial, Communication_services, Automobile , Basic_Material]\n",
    "\n",
    "sectorname = ['Technology', 'Healthcare', 'Consumer_Cyclical', 'Consumer_Defensive' , 'Utilities', 'Industrial',\n",
    "          'Energy', 'Real_Estate' , 'Financial', 'Communication_services', 'Automobile' , 'Basic_Material']\n",
    "\n",
    "sectordict = {sectorname[i]: sector[i] for i in range(len(sector))}"
   ]
  },
  {
   "cell_type": "markdown",
   "id": "01cd0efc",
   "metadata": {},
   "source": [
    "# Preprocessing"
   ]
  },
  {
   "cell_type": "code",
   "execution_count": 5,
   "id": "7cc52157",
   "metadata": {},
   "outputs": [],
   "source": [
    "#Changing indices of each dataframe\n",
    "for i in range(len(csv_files)):\n",
    "    dfs[i].set_index(\"Date\", inplace = True)\n",
    "    dfs[i].index= pd.to_datetime(dfs[i].index)\n",
    "    dfs[i].index = dfs[i].index.strftime('%Y-%m-%d')\n",
    "\n",
    "#Considering Closing price for each stock\n",
    "dfs_copy = [pd.DataFrame(dfs[i].loc[:,'Close']) for i in range(len(csv_files))]\n",
    "\n",
    "# Merging all parts (Stock name as column name and date as index)\n",
    "dfs_main = pd.concat(dfs_copy , axis = 1) \n",
    "dfs_main = dfs_main.set_axis(path , axis=1)\n",
    "dfs_main = dfs_main.sort_index()\n",
    "\n",
    "# dfs main (filling nan values by previous values)\n",
    "dfs_main.fillna(method='ffill', inplace=True)"
   ]
  },
  {
   "cell_type": "markdown",
   "id": "961a784f",
   "metadata": {},
   "source": [
    "# Saving the preprocessed data and company sector labels "
   ]
  },
  {
   "cell_type": "code",
   "execution_count": 6,
   "id": "2ebc21bb",
   "metadata": {},
   "outputs": [],
   "source": [
    "# In covid data\n",
    "dfs_main.loc['2019-12-01':'2020-08-31',:].to_csv(dir+'PreprocessedData/'+dataname+'_in_covid.csv')\n",
    "# post covid data\n",
    "dfs_main.loc['2020-09-01':'2021-06-31',:].to_csv(dir+'PreprocessedData/'+dataname+'_post_covid.csv')"
   ]
  },
  {
   "cell_type": "code",
   "execution_count": 7,
   "id": "1c1031e6",
   "metadata": {},
   "outputs": [],
   "source": [
    "# Saving csLabels\n",
    "with open(dir+\"CSLabels/\"+dataname+\"Sectors.pkl\", \"wb\") as fp:\n",
    "    pickle.dump(sectordict, fp)"
   ]
  },
  {
   "cell_type": "code",
   "execution_count": 8,
   "id": "c221c3fa",
   "metadata": {},
   "outputs": [],
   "source": [
    "# Saving Company names\n",
    "with open(dir+\"CSLabels/\"+dataname+\"Companies.pkl\", \"wb\") as fp:\n",
    "    pickle.dump(path, fp)"
   ]
  }
 ],
 "metadata": {
  "kernelspec": {
   "display_name": "Python 3 (ipykernel)",
   "language": "python",
   "name": "python3"
  },
  "language_info": {
   "codemirror_mode": {
    "name": "ipython",
    "version": 3
   },
   "file_extension": ".py",
   "mimetype": "text/x-python",
   "name": "python",
   "nbconvert_exporter": "python",
   "pygments_lexer": "ipython3",
   "version": "3.10.2"
  }
 },
 "nbformat": 4,
 "nbformat_minor": 5
}
